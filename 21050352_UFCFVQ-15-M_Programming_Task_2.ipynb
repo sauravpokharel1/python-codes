{
 "cells": [
  {
   "cell_type": "markdown",
   "metadata": {
    "deletable": false
   },
   "source": [
    "# UFCFVQ-15-M Programming for Data Science (Autumn 2021)\n",
    "# Programming Task 2\n",
    "\n",
    "## Student Id: 21050352"
   ]
  },
  {
   "cell_type": "markdown",
   "metadata": {
    "deletable": false
   },
   "source": [
    "### Requirement FR9 - Read CSV data from two files and merge it into a single Data Frame "
   ]
  },
  {
   "cell_type": "code",
   "execution_count": 1,
   "metadata": {},
   "outputs": [],
   "source": [
    "#This cell is for import.\n",
    "import pandas as pd\n",
    "import numpy as np \n",
    "import scipy.stats #this library has the statistics functions and operations\n",
    "\n",
    "import seaborn as sns #I chose seaborn because for this task, it provides intuiive graphics and the commands are easy"
   ]
  },
  {
   "cell_type": "code",
   "execution_count": 3,
   "metadata": {},
   "outputs": [
    {
     "name": "stdout",
     "output_type": "stream",
     "text": [
      "<class 'pandas.core.frame.DataFrame'>\n",
      "Int64Index: 51 entries, 0 to 50\n",
      "Data columns (total 11 columns):\n",
      " #   Column                                    Non-Null Count  Dtype  \n",
      "---  ------                                    --------------  -----  \n",
      " 0   region                                    51 non-null     int64  \n",
      " 1   median_household_income                   51 non-null     int64  \n",
      " 2   share_unemployed_seasonal                 51 non-null     float64\n",
      " 3   share_population_in_metro_areas           51 non-null     float64\n",
      " 4   share_population_with_high_school_degree  51 non-null     float64\n",
      " 5   share_non_citizen                         48 non-null     float64\n",
      " 6   share_white_poverty                       51 non-null     float64\n",
      " 7   gini_index                                51 non-null     float64\n",
      " 8   share_non_white                           51 non-null     float64\n",
      " 9   share_voters_voted_to_the_right           51 non-null     float64\n",
      " 10  avg_biascrimes_per_100k                   50 non-null     float64\n",
      "dtypes: float64(9), int64(2)\n",
      "memory usage: 4.8 KB\n"
     ]
    }
   ],
   "source": [
    "# add code here\n",
    "import pandas as pd\n",
    "residents = pd.read_csv(\"task2a.csv\")\n",
    "crime =  pd.read_csv(\"task2b.csv\")\n",
    "crime_resi = pd.merge(residents,crime)\n",
    "crime_resi.info()"
   ]
  },
  {
   "cell_type": "markdown",
   "metadata": {
    "deletable": false
   },
   "source": [
    "<p style=\"color:red; font-weight:bold; font-size:xx-small\">MARK: __%</p>\n",
    "<p style=\"color:red; font-weight:bold; font-size:xx-small\">FEEDBACK: </p>"
   ]
  },
  {
   "cell_type": "markdown",
   "metadata": {
    "deletable": false
   },
   "source": [
    "### Requirement FR10 - Clean the merged data"
   ]
  },
  {
   "cell_type": "code",
   "execution_count": 4,
   "metadata": {},
   "outputs": [
    {
     "name": "stdout",
     "output_type": "stream",
     "text": [
      "<class 'pandas.core.frame.DataFrame'>\n",
      "RangeIndex: 47 entries, 0 to 46\n",
      "Data columns (total 10 columns):\n",
      " #   Column                                    Non-Null Count  Dtype  \n",
      "---  ------                                    --------------  -----  \n",
      " 0   region                                    47 non-null     int64  \n",
      " 1   median_household_income                   47 non-null     int64  \n",
      " 2   share_unemployed_seasonal                 47 non-null     float64\n",
      " 3   share_population_in_metro_areas           47 non-null     float64\n",
      " 4   share_population_with_high_school_degree  47 non-null     float64\n",
      " 5   share_non_citizen                         47 non-null     float64\n",
      " 6   share_white_poverty                       47 non-null     float64\n",
      " 7   gini_index                                47 non-null     float64\n",
      " 8   share_non_white                           47 non-null     float64\n",
      " 9   avg_biascrimes_per_100k                   47 non-null     float64\n",
      "dtypes: float64(8), int64(2)\n",
      "memory usage: 3.8 KB\n"
     ]
    }
   ],
   "source": [
    "# add code here\n",
    "#dropping the column \"share_voters_voted_to_the_right\"\n",
    "\n",
    "crime_resi = crime_resi.drop(\"share_voters_voted_to_the_right\", axis = 1)\n",
    "\n",
    "#null values cause errors in calculation, hence removeing them\n",
    "crime_resi = crime_resi.dropna(axis=0) \n",
    "\n",
    "#index need to be reset because after dropping rows, new dataframe will retain the old index.\n",
    "#this old index won't be sequential\n",
    "#drop=True argument makes sure that when a new column of index is created, old index is dropped \n",
    "\n",
    "crime_resi = crime_resi.reset_index(drop= True)\n",
    "\n",
    "crime_resi.info()"
   ]
  },
  {
   "cell_type": "markdown",
   "metadata": {
    "deletable": false
   },
   "source": [
    "<p style=\"color:red; font-weight:bold; font-size:xx-small\">MARK: __%</p>\n",
    "<p style=\"color:red; font-weight:bold; font-size:xx-small\">FEEDBACK: </p>"
   ]
  },
  {
   "cell_type": "markdown",
   "metadata": {
    "deletable": false
   },
   "source": [
    "### Requirement FR11 - Investigate the effects of household income on levels of bias crimes"
   ]
  },
  {
   "cell_type": "code",
   "execution_count": 18,
   "metadata": {},
   "outputs": [
    {
     "data": {
      "text/plain": [
       "0.296"
      ]
     },
     "execution_count": 18,
     "metadata": {},
     "output_type": "execute_result"
    },
    {
     "data": {
      "image/png": "[encoded data removed]",
      "text/plain": [
       "<Figure size 432x288 with 1 Axes>"
      ]
     },
     "metadata": {},
     "output_type": "display_data"
    }
   ],
   "source": [
    "# add code here\n",
    "import numpy as np\n",
    "import scipy.stats\n",
    "\n",
    "import seaborn as sns; sns.set_theme(color_codes=True) \n",
    "\n",
    "#scatterplots with a regression line are the best tool for visualisation of \n",
    "#the relationship between two variables.\n",
    "\n",
    "plot_income = sns.regplot(x=\"median_household_income\", y=\"avg_biascrimes_per_100k\", data=crime_resi)\n",
    "plot_income.set(title='Scatter Plot: Median Household Income & Level of Bias Crime')\n",
    "plot_income.set_xlabel(\"Median Household Income\")\n",
    "plot_income.set_ylabel(\"Average Bias Crimes per 100k\")\n",
    "\n",
    "cor_house  = round(scipy.stats.pearsonr(crime_resi[\"median_household_income\"], crime_resi[\"avg_biascrimes_per_100k\"])[0],3)\n",
    "cor_house"
   ]
  },
  {
   "cell_type": "markdown",
   "metadata": {},
   "source": [
    "In the scatterplot above, the four pronounced observations are:\n",
    "\n",
    "1. There is a outlier in the data which might affect the analysis.\n",
    "2. The slope of the regression line is positive, hence there might exist a positive \n",
    "   correlation between median household income and level of bais crime.\n",
    "   bias crimes are the crimes comitted due to certain bias againt the victim, it might be \n",
    "   racial bias, religious bias, so on.\n",
    "3. The observation points aren't all within the confidence interval shade of the line.\n",
    "   infact, more observations are outside the shade than inside. This means this linear model migh not best\n",
    "   describe the behaviour of the population.\n",
    "4. The correlation coeffiecent between average bias crimes and household income is 0.296 which is not a strong correlation. It is a weak positive correlation.\n",
    "5. As household income level increases, bias crime also tend to increase.\n",
    "\n",
    "Hence a hypothesis test is conducted to decide if there is a significant linear relationship between household incomes and bias crimes or the implied relation is just a lucky coindicence in the sample data."
   ]
  },
  {
   "cell_type": "markdown",
   "metadata": {
    "deletable": false
   },
   "source": [
    "<p style=\"color:red; font-weight:bold; font-size:xx-small\">MARK: __%</p>\n",
    "<p style=\"color:red; font-weight:bold; font-size:xx-small\">FEEDBACK: </p>"
   ]
  },
  {
   "cell_type": "markdown",
   "metadata": {
    "deletable": false
   },
   "source": [
    "### Requirement FR12 - Test the hypothesis that household income has no effect on levels of bias crime"
   ]
  },
  {
   "cell_type": "markdown",
   "metadata": {},
   "source": [
    "Generally, household income level and crime rates are supposed to be related, poorer household area assumed to have higher crime rate. However, in the case of bias crimes, it seems to be different, higher median household income level seem to suggest higher rates of bias crimes.\n",
    "However, this conclusion is only valid for this data. Does this behaviour follow in the population, or is it just a random coincidence?\n",
    "\n",
    "To know this, we conduct a hypothesis test.\n",
    "\n",
    "To test the hypotheisis that the household income has no effect on levels of bias crime, we use a correlation test.\n",
    "Corretlation test between two variables (dependent = level of bias crime, exaplanatory = median household income) is performed by obtaining the pearson's correlation coefficeint, and checking if its absolute value is more than or equal to the critical values for a given confidence level and degree of freedom.\n",
    "\n",
    "First we need to assume certain behaviour of population to carryout the testing:\n",
    "\n",
    "1. Each observations in population are independent and identically distributed.\n",
    "2. The population has a normal distribution, even if the sample doesnot show the behaviour.\n",
    "3. Each observation in the sample has the same variance.\n",
    "\n",
    "\n",
    "for this testing, the confidence level is 95%, degree of freedom is n-2= 45 and correlation coeffient is 0.296.\n",
    "The null hypothesis is \n",
    "## H_0 = Household income has no significant effect on levels of bias crime \n",
    "and the alternative hypothesis is\n",
    "## H_1 = Household income has significant effect on levels of bias crime\n",
    "\n",
    "This means if the p-value (the probability of occurance of correlation in sample is random) is less than 0.05, the null hypothesis is rejected, else we conclude that the household income and levels of bias crime are probably indepedent. "
   ]
  },
  {
   "cell_type": "code",
   "execution_count": 19,
   "metadata": {},
   "outputs": [
    {
     "name": "stdout",
     "output_type": "stream",
     "text": [
      "r=0.296, p=0.044\n",
      "Null hypothesis rejected, there is a significant correlation between median household income and average bias crime levels.\n",
      "They are probably independent\n"
     ]
    }
   ],
   "source": [
    "#add code here\n",
    "import scipy.stats\n",
    "\n",
    "r, p = scipy.stats.pearsonr(crime_resi[\"median_household_income\"], crime_resi[\"avg_biascrimes_per_100k\"])\n",
    "\n",
    "print('r=%.3f, p=%.3f' % (r, p))\n",
    "\n",
    "if p > 0.05:\n",
    "    print('Null hypothesis accepted, the median household income and average bias crime levels are probably independent ')\n",
    "else:\n",
    "    print('Null hypothesis rejected, there is a significant correlation between median household income and average bias crime levels.\\nThey are probably independent')"
   ]
  },
  {
   "cell_type": "markdown",
   "metadata": {
    "deletable": false
   },
   "source": [
    "<p style=\"color:red; font-weight:bold; font-size:xx-small\">MARK: __%</p>\n",
    "<p style=\"color:red; font-weight:bold; font-size:xx-small\">FEEDBACK: </p>"
   ]
  },
  {
   "cell_type": "markdown",
   "metadata": {
    "deletable": false
   },
   "source": [
    "### Requirement FR13 - Investigate the effects of urbanisation on levels of bias crimes"
   ]
  },
  {
   "cell_type": "code",
   "execution_count": 17,
   "metadata": {},
   "outputs": [
    {
     "data": {
      "text/plain": [
       "0.209"
      ]
     },
     "execution_count": 17,
     "metadata": {},
     "output_type": "execute_result"
    },
    {
     "data": {
      "image/png": "[encoded data removed]",
      "text/plain": [
       "<Figure size 432x288 with 1 Axes>"
      ]
     },
     "metadata": {},
     "output_type": "display_data"
    }
   ],
   "source": [
    "# add code here\n",
    "#as in FR11, scatter plot with a regression line is a good representation \n",
    "#of the correlation of the variables (dependent=avg_biascrimes_per_100k, explanatory = share_population_in_metro_areas)\n",
    "\n",
    "plot_metro = sns.regplot(x=\"share_population_in_metro_areas\", y=\"avg_biascrimes_per_100k\", data=crime_resi)\n",
    "\n",
    "plot_metro.set(title='Scatter Plot: Share of population in Urban area & Level of Bias Crime')\n",
    "plot_metro.set_xlabel(\"Sahre of Population in Metro Areas\")\n",
    "plot_metro.set_ylabel(\"Average Bias Crimes per 100k\")\n",
    "\n",
    "cor_metro  = round(scipy.stats.pearsonr(crime_resi[\"share_population_in_metro_areas\"], crime_resi[\"avg_biascrimes_per_100k\"])[0],3)\n",
    "cor_metro"
   ]
  },
  {
   "cell_type": "markdown",
   "metadata": {
    "deletable": false
   },
   "source": [
    "<p style=\"color:red; font-weight:bold; font-size:xx-small\">MARK: __%</p>\n",
    "<p style=\"color:red; font-weight:bold; font-size:xx-small\">FEEDBACK: </p>"
   ]
  },
  {
   "cell_type": "markdown",
   "metadata": {},
   "source": [
    "The observations from this graph are:\n",
    "1. There seems to exists a linear relationship between living in metro area and average bias crimes.\n",
    "2. There are no outliers.\n",
    "3. Some data in this sample aren't within the confidence interval of this generated linear model.\n",
    "4. More data are on the right side and scantly data in the left side. This data might be right skewed and not normally distributed.\n",
    "5. The correlation coeffiecent between Average bias crime and metro areas is 0.209 which is a weak positive correlation."
   ]
  },
  {
   "cell_type": "markdown",
   "metadata": {
    "deletable": false
   },
   "source": [
    "### Requirement FR14 - Test the hypothesis that urbanisation has a significant effect on levels of bias crimes"
   ]
  },
  {
   "cell_type": "markdown",
   "metadata": {},
   "source": [
    "The scatterplot suggests that higher level of urbanisation results in higher level of bias crimes, although not strongly correlated.\n",
    "\n",
    "However, this conclusion is only valid for this randomised sample of data. Does this behaviour follow in the population, or is it just a random coincidence?\n",
    "\n",
    "To know this, we conduct a hypothesis test.\n",
    "\n",
    "To test the hypotheisis that the urbanisation has significant on levels of bias crime, we use a correlation test.\n",
    "Corretlation test between two variables (dependent = level of bias crime, exaplanatory = share of population in metro areas) is performed by obtaining the pearson's correlation coefficeint, and checking if its absolute value is more than or equal to the critical values for a given confidence level and degree of freedom. (the scipy library function \"pearsonr()\" calculates the p-value automatically.\n",
    "\n",
    "First we need to assume certain behaviour of population to carryout the testing:\n",
    "\n",
    "1. Each observations in population are independent and identically distributed.\n",
    "2. The population has a normal distribution, even if the sample doesnot show the behaviour.\n",
    "3. Each observation in the sample has the same variance.\n",
    "\n",
    "\n",
    "for this testing, the confidence level is 95%, degree of freedom is n-2= 45 and correlation coeffient is 0.209.\n",
    "The null hypothesis is \n",
    "## H_0 = Urbanisation has no significant effect on levels of bias crime \n",
    "and the alternative hypothesis is\n",
    "## H_1 = Urbanisation has significant effect on levels of bias crime\n",
    "\n",
    "This means if the p-value (the probability of occurance of correlation in sample is random) is less than 0.05, the null hypothesis is rejected, else we conclude that the household income and levels of bias crime are probably indepedent. "
   ]
  },
  {
   "cell_type": "code",
   "execution_count": 8,
   "metadata": {},
   "outputs": [
    {
     "name": "stdout",
     "output_type": "stream",
     "text": [
      "r=0.209, p=0.158\n",
      "Null hypothesis accepted, the median household income and average bias crime levels are probably independent \n"
     ]
    }
   ],
   "source": [
    "# add code here\n",
    "import scipy.stats\n",
    "\n",
    "r, p = scipy.stats.pearsonr(crime_resi[\"share_population_in_metro_areas\"], crime_resi[\"avg_biascrimes_per_100k\"])\n",
    "\n",
    "print('r=%.3f, p=%.3f' % (r, p)) #rounding up the values to 3 decimal places\n",
    "\n",
    "if p > 0.05:\n",
    "    print('Null hypothesis accepted, the urbanisation and average bias crime levels are probably independent ')\n",
    "else:\n",
    "    print('Null hypothesis rejected, there is a significant correlation between urbanisation and average bias crime levels.\\nThey are probably independent')"
   ]
  },
  {
   "cell_type": "markdown",
   "metadata": {},
   "source": [
    "Here, unlike before, the null hypothesis is accepted. This means that in the population (the main data where this sample is taken from) Share of population in metro areas and average bias crime are probably independent. The correlation in the sample might be just random coincidence."
   ]
  },
  {
   "cell_type": "markdown",
   "metadata": {
    "deletable": false
   },
   "source": [
    "<p style=\"color:red; font-weight:bold; font-size:xx-small\">MARK: __%</p>\n",
    "<p style=\"color:red; font-weight:bold; font-size:xx-small\">FEEDBACK: </p>"
   ]
  },
  {
   "cell_type": "markdown",
   "metadata": {
    "deletable": false
   },
   "source": [
    "# Coding Standards\n",
    "<p style=\"color:red; font-weight:bold; font-size:xx-small\">MARK: __%</p>\n",
    "<p style=\"color:red; font-weight:bold; font-size:xx-small\">FEEDBACK: </p>"
   ]
  },
  {
   "cell_type": "markdown",
   "metadata": {},
   "source": [
    "# Process Development Report for Task 2\n"
   ]
  },
  {
   "cell_type": "markdown",
   "metadata": {},
   "source": [
    "This task was pretty easy for me as I had experience and confidence in pandas and statistics due to the assessments of Data Management Fundamentals and Statistical Inference. \n",
    "The instructions were very clear and the freedom to use libraries made the task doable.\n",
    "\n",
    "Hypothesis testing used to be a complex concept to understand, but after some looking up online, I came to understand that we are testing the replicability of behaviour in sample in the original data.\n",
    "\n",
    "Comparing between Matplotlib and seaborn, albeit little, made me choose seaborn, for two reasons:\n",
    "1. Its commands are instictive and like ggplot2 in R\n",
    "2. Its name sounds cooler.\n",
    "\n",
    "Scatterplot with regression line is my favourite way to visualise any linear correlation.\n",
    "\n",
    "After minutes of looking up online for proper library for correlation and hypothesis testing, the scipy.stats module was the obvious choice. The pearsonr() fucntion gives both the correlation coeffiecent and the p-value for it.\n",
    "\n",
    "The methods I used, however aren't universal. One can write the fucntions for hypotheisis testing themselves and not use the libraries. MatPlotlib can be used for more flexibility in the plot, like adding custom titles, labels and etc."
   ]
  },
  {
   "cell_type": "markdown",
   "metadata": {},
   "source": [
    "<p style=\"color:red; font-weight:bold; font-size:xx-small\">MARK: __%</p>\n",
    "<p style=\"color:red; font-weight:bold; font-size:xx-small\">FEEDBACK: </p>"
   ]
  }
 ],
 "metadata": {
  "kernelspec": {
   "display_name": "Python 3",
   "language": "python",
   "name": "python3"
  },
  "language_info": {
   "codemirror_mode": {
    "name": "ipython",
    "version": 3
   },
   "file_extension": ".py",
   "mimetype": "text/x-python",
   "name": "python",
   "nbconvert_exporter": "python",
   "pygments_lexer": "ipython3",
   "version": "3.8.8"
  }
 },
 "nbformat": 4,
 "nbformat_minor": 4
}
